{
 "cells": [
  {
   "cell_type": "markdown",
   "metadata": {},
   "source": [
    "# Final capstone project"
   ]
  },
  {
   "cell_type": "markdown",
   "metadata": {},
   "source": [
    "## 1 The problem:\n",
    "Where is the neighborhood that meet client's food tastes requirement best?\n",
    "\n",
    "Background:  \n",
    "In todays world, people are moving across the world quite often. A person who lives in North America could originally from South Africa or vice versa. So it might be important for people to choose to live closer to most of their favourite food restaurants. And based on some existing research that we know food type from some countries or continent have same similarity. Hence it is possible to cluster neighborhood based on the restaurant tastes nearby.\n",
    "\n",
    "Audience:\n",
    "The target audience could be anyone who are interested in where his/her favourite taste restaurants are located in. They could even use those information to choose where to live since delicious food is essential to daily life."
   ]
  },
  {
   "cell_type": "markdown",
   "metadata": {},
   "source": [
    "## 2 The data\n",
    "Neighborhood locations:  \n",
    "The neighborhood locations data would include the name, postal code, coordinates of those neighborhoods so that we can locate those nodes on to a map. This needs to be localised for certain city rather than the whole world. For this project, I would try to get data from City Council for Auckland, New Zealand. If I can't, I will use Toronto or New York instead.\n",
    "\n",
    "Restaurants:  \n",
    "Restaurants data would be get through API from Foursquare. 500m radius would be use at the beginning. If there are very less restaurants, the radius would be increased to 1km. Otherwise if too many restaurants, a filter of them by rating points would be done."
   ]
  },
  {
   "cell_type": "code",
   "execution_count": null,
   "metadata": {},
   "outputs": [],
   "source": []
  }
 ],
 "metadata": {
  "kernelspec": {
   "display_name": "Python 3",
   "language": "python",
   "name": "python3"
  },
  "language_info": {
   "codemirror_mode": {
    "name": "ipython",
    "version": 3
   },
   "file_extension": ".py",
   "mimetype": "text/x-python",
   "name": "python",
   "nbconvert_exporter": "python",
   "pygments_lexer": "ipython3",
   "version": "3.7.7"
  }
 },
 "nbformat": 4,
 "nbformat_minor": 4
}
