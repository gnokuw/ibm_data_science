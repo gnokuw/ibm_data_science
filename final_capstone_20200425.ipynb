{
 "cells": [
  {
   "cell_type": "markdown",
   "metadata": {},
   "source": [
    "# Final capstone project\n",
    "## Where to live for different food preference"
   ]
  },
  {
   "cell_type": "markdown",
   "metadata": {},
   "source": [
    "The problem would be: to show a cluster map based on food tastes for a client to choose where to live"
   ]
  },
  {
   "cell_type": "markdown",
   "metadata": {},
   "source": [
    "The data: neighborhood, coordinates, difference type of restaurants around that neighbood (1km) from Foursquare\n",
    "I will try to get my local city data, if not I may keep using the Toronto data."
   ]
  },
  {
   "cell_type": "code",
   "execution_count": null,
   "metadata": {},
   "outputs": [],
   "source": []
  }
 ],
 "metadata": {
  "kernelspec": {
   "display_name": "Python 3",
   "language": "python",
   "name": "python3"
  },
  "language_info": {
   "codemirror_mode": {
    "name": "ipython",
    "version": 3
   },
   "file_extension": ".py",
   "mimetype": "text/x-python",
   "name": "python",
   "nbconvert_exporter": "python",
   "pygments_lexer": "ipython3",
   "version": "3.7.7"
  }
 },
 "nbformat": 4,
 "nbformat_minor": 4
}
